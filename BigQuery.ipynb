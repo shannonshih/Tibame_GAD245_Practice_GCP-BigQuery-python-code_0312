{
  "nbformat": 4,
  "nbformat_minor": 0,
  "metadata": {
    "colab": {
      "provenance": [],
      "authorship_tag": "ABX9TyMXuO0+1/M47RZPXPnJ99gk",
      "include_colab_link": true
    },
    "kernelspec": {
      "name": "python3",
      "display_name": "Python 3"
    },
    "language_info": {
      "name": "python"
    }
  },
  "cells": [
    {
      "cell_type": "markdown",
      "metadata": {
        "id": "view-in-github",
        "colab_type": "text"
      },
      "source": [
        "<a href=\"https://colab.research.google.com/github/shannonshih/Tibame_GAD245_Practice_GCP-BigQuery-python-code_0312/blob/main/BigQuery.ipynb\" target=\"_parent\"><img src=\"https://colab.research.google.com/assets/colab-badge.svg\" alt=\"Open In Colab\"/></a>"
      ]
    },
    {
      "cell_type": "markdown",
      "source": [
        "安裝所需的軟體包"
      ],
      "metadata": {
        "id": "Vy8Qi8P0XGcZ"
      }
    },
    {
      "cell_type": "code",
      "execution_count": null,
      "metadata": {
        "id": "KwpFFOE2F21D"
      },
      "outputs": [],
      "source": [
        "!pip install google-cloud-bigquery"
      ]
    },
    {
      "cell_type": "markdown",
      "source": [
        "設置客戶端"
      ],
      "metadata": {
        "id": "PKLYc-wkWrx3"
      }
    },
    {
      "cell_type": "code",
      "source": [
        "import os\n",
        "from google.cloud import bigquery\n",
        "\n",
        "# 設置 Google Cloud 認證\n",
        "os.environ['GOOGLE_APPLICATION_CREDENTIALS']=r\"/content/tibame-gad245-16-0305-96bb09dc9463.json\"\n",
        "\n",
        "\n",
        "# 初始化 BigQuery 客戶端\n",
        "client = bigquery.Client()\n",
        "print('connection done')"
      ],
      "metadata": {
        "colab": {
          "base_uri": "https://localhost:8080/"
        },
        "id": "vGrseFByIJdu",
        "outputId": "f4f56bcc-d65d-4f10-cf40-17bdf292a04c"
      },
      "execution_count": 14,
      "outputs": [
        {
          "output_type": "stream",
          "name": "stdout",
          "text": [
            "connection done\n"
          ]
        }
      ]
    },
    {
      "cell_type": "markdown",
      "source": [
        "建立資料集"
      ],
      "metadata": {
        "id": "5d0Dhw7pWzYY"
      }
    },
    {
      "cell_type": "code",
      "source": [
        "# 定義資料集參數\n",
        "dataset_id = 'tibame_gad245_16_0312_dataset_us'  # 替換為想要建立的資料集名稱\n",
        "project_id = 'tibame-gad245-16-0305'  # 替換為 Google Cloud 專案 ID\n",
        "dataset_ref = client.dataset(dataset_id)\n",
        "\n",
        "# 設定資料集的描述和其他選項\n",
        "dataset = bigquery.Dataset(dataset_ref)\n",
        "dataset.description = 'This is a new dataset created from Python.'\n",
        "dataset.location = 'US'  # 設定資料集的地區位置\n",
        "\n",
        "# 建立資料集\n",
        "dataset = client.create_dataset(dataset, timeout=30)  # 可設定超時時間\n",
        "print(f\"dataset: {dataset.dataset_id} ,created\")"
      ],
      "metadata": {
        "colab": {
          "base_uri": "https://localhost:8080/"
        },
        "id": "mF6epyseKLiL",
        "outputId": "295eb527-bec2-4823-8552-1c844830baf6"
      },
      "execution_count": 15,
      "outputs": [
        {
          "output_type": "stream",
          "name": "stdout",
          "text": [
            "dataset: tibame_gad245_16_0312_dataset_us ,created\n"
          ]
        }
      ]
    },
    {
      "cell_type": "markdown",
      "source": [
        "建立資料表"
      ],
      "metadata": {
        "id": "nrJhp_0kW2V-"
      }
    },
    {
      "cell_type": "code",
      "source": [
        "# 定義資料集和資料表\n",
        "# dataset_id = '資料集ID'\n",
        "table_id = 'age_table'\n",
        "schema = [\n",
        "    bigquery.SchemaField(\"name\", \"STRING\"),\n",
        "    bigquery.SchemaField(\"age\", \"INTEGER\"),\n",
        "]\n",
        "\n",
        "# 定義表格參數\n",
        "table_ref = client.dataset(dataset_id).table(table_id)\n",
        "table = bigquery.Table(table_ref, schema=schema)\n",
        "\n",
        "# 建立資料表\n",
        "table = client.create_table(table)\n",
        "print(f\"table: {table.table_id} ,created\")"
      ],
      "metadata": {
        "colab": {
          "base_uri": "https://localhost:8080/"
        },
        "id": "RrOz-KJQLWRj",
        "outputId": "ab64729c-4872-4d1f-e2b4-f1c74966cdfe"
      },
      "execution_count": 3,
      "outputs": [
        {
          "output_type": "stream",
          "name": "stdout",
          "text": [
            "table: age_table ,created\n"
          ]
        }
      ]
    },
    {
      "cell_type": "markdown",
      "source": [
        "寫入資料"
      ],
      "metadata": {
        "id": "d1-e_39tW3V6"
      }
    },
    {
      "cell_type": "code",
      "source": [
        "# 定義資料集和表資料表名稱\n",
        "# dataset_id = '資料集ID'\n",
        "table_id = 'age_table'\n",
        "\n",
        "# 定義資料\n",
        "rows_to_insert = [\n",
        "    {\"name\": \"Alice\", \"age\": 25},\n",
        "    {\"name\": \"Bob\", \"age\": 35},\n",
        "    {\"name\": \"Shannon\", \"age\": 27}\n",
        "]\n",
        "\n",
        "# 插入資料\n",
        "errors = client.insert_rows_json(f\"{dataset_id}.{table_id}\", rows_to_insert)\n",
        "\n",
        "if errors == []:\n",
        "    print(\"data insert successfully\")\n",
        "else:\n",
        "    print(f\"error: {errors}\")\n",
        "\n"
      ],
      "metadata": {
        "colab": {
          "base_uri": "https://localhost:8080/"
        },
        "id": "ztLOYMgMNiLN",
        "outputId": "f45eb7a7-52d6-4ec9-bb76-3dbb0b6c4c14"
      },
      "execution_count": 4,
      "outputs": [
        {
          "output_type": "stream",
          "name": "stdout",
          "text": [
            "data insert successfully\n"
          ]
        }
      ]
    },
    {
      "cell_type": "markdown",
      "source": [
        "查詢資料"
      ],
      "metadata": {
        "id": "Jn0zXqmXW5nP"
      }
    },
    {
      "cell_type": "code",
      "source": [
        "# 定義查詢語句\n",
        "query = \"\"\"\n",
        "    SELECT name, age\n",
        "    FROM `tibame_gad245_16_0312_dataset_us.age_table`\n",
        "    WHERE age > 30\n",
        "\"\"\"\n",
        "\n",
        "# 執行查詢\n",
        "query_job = client.query(query)\n",
        "\n",
        "# 獲取結果\n",
        "results = query_job.result()\n",
        "\n",
        "# 印出結果\n",
        "for row in results:\n",
        "    print(f\"name: {row.name}, age: {row.age}\")\n",
        "\n",
        "print(results)"
      ],
      "metadata": {
        "colab": {
          "base_uri": "https://localhost:8080/"
        },
        "id": "rExyulLnR1Tz",
        "outputId": "9c7de2ef-e954-4179-b401-bbaa1229a561"
      },
      "execution_count": 8,
      "outputs": [
        {
          "output_type": "stream",
          "name": "stdout",
          "text": [
            "name: Bob, age: 35\n",
            "<google.cloud.bigquery.table.RowIterator object at 0x7b68291b9950>\n"
          ]
        }
      ]
    },
    {
      "cell_type": "markdown",
      "source": [
        "刪除資料表"
      ],
      "metadata": {
        "id": "Lvhb1JkfW7qH"
      }
    },
    {
      "cell_type": "code",
      "source": [
        "# 定義資料集和資料表名稱\n",
        "# dataset_id = '資料集ID'\n",
        "# table_id = 'age_table'\n",
        "\n",
        "# 定義資料表參數\n",
        "table_ref = client.dataset(dataset_id).table(table_id)\n",
        "\n",
        "# 刪除資料表\n",
        "client.delete_table(table_ref)\n",
        "print(f\"table: {table_id} ,deleted\")\n"
      ],
      "metadata": {
        "colab": {
          "base_uri": "https://localhost:8080/"
        },
        "id": "Fs-S97AbSyCG",
        "outputId": "6f47cd13-0c74-4b22-bd16-ce12416907ab"
      },
      "execution_count": 9,
      "outputs": [
        {
          "output_type": "stream",
          "name": "stdout",
          "text": [
            "table: age_table ,deleted\n"
          ]
        }
      ]
    },
    {
      "cell_type": "markdown",
      "source": [
        "建立tenserflow模型"
      ],
      "metadata": {
        "id": "Qt1sk8weXAy_"
      }
    },
    {
      "cell_type": "code",
      "source": [
        "# 定義 SQL 查詢以創建模型\n",
        "query = \"\"\"\n",
        "CREATE OR REPLACE MODEL `tibame_gad245_16_0312_dataset_us.imported_tf_model`\n",
        "OPTIONS (MODEL_TYPE='TENSORFLOW',\n",
        "         MODEL_PATH='gs://cloud-training-demos/txtclass/export/exporter/1549825580/*')\n",
        "\"\"\"\n",
        "\n",
        "# 執行 SQL 查詢以創建模型\n",
        "query_job = client.query(query)\n",
        "query_job.result()  # 等待查詢完成\n",
        "\n",
        "print(\"TensorFlow model import BigQuery ML\")"
      ],
      "metadata": {
        "colab": {
          "base_uri": "https://localhost:8080/"
        },
        "id": "ntEBx0tQWOPN",
        "outputId": "ea3fae97-1a4f-4187-dff6-e9ec80324af9"
      },
      "execution_count": 16,
      "outputs": [
        {
          "output_type": "stream",
          "name": "stdout",
          "text": [
            "TensorFlow model import BigQuery ML\n"
          ]
        }
      ]
    },
    {
      "cell_type": "markdown",
      "source": [
        "測試tensorflow模型資料"
      ],
      "metadata": {
        "id": "xxZz59R4XJHM"
      }
    },
    {
      "cell_type": "code",
      "source": [
        "# 定義 SQL 查詢以使用模型進行預測，只取五筆非 NULL 的資料\n",
        "query = \"\"\"\n",
        "SELECT *\n",
        "FROM ML.PREDICT(MODEL `tibame_gad245_16_0312_dataset_us.imported_tf_model`,\n",
        "  (SELECT title AS input\n",
        "   FROM `bigquery-public-data.hacker_news.full`\n",
        "   WHERE title IS NOT NULL\n",
        "   LIMIT 5)  -- 限制結果為五筆資料\n",
        ")\n",
        "\"\"\"\n",
        "\n",
        "# 執行 SQL 查詢以進行預測\n",
        "query_job = client.query(query)\n",
        "results = query_job.result()  # 等待查詢完成\n",
        "\n",
        "# 印出預測結果\n",
        "for row in results:\n",
        "    print(row)"
      ],
      "metadata": {
        "colab": {
          "base_uri": "https://localhost:8080/"
        },
        "id": "MBYJAW1iXRz0",
        "outputId": "bdaf55b4-19a7-4290-c1e1-0ebdad9c337a"
      },
      "execution_count": 17,
      "outputs": [
        {
          "output_type": "stream",
          "name": "stdout",
          "text": [
            "Row(([0.8007680773735046, 0.10563275963068008, 0.09359916299581528], 'Placeholder'), {'dense_1': 0, 'input': 1})\n",
            "Row(([0.8007680773735046, 0.10563275963068008, 0.09359916299581528], 'Search Engine Optimization'), {'dense_1': 0, 'input': 1})\n",
            "Row(([0.00046904210466891527, 0.9701762795448303, 0.029354579746723175], 'Reduce Bounce Rate of Your Web Pages – Imprace Improves the First Impression'), {'dense_1': 0, 'input': 1})\n",
            "Row(([0.029970815405249596, 0.9580219388008118, 0.012007219716906548], 'Harlequin Presents : Hidden Object of Desire Game Download Free'), {'dense_1': 0, 'input': 1})\n",
            "Row(([3.218979429675528e-07, 2.498678077245131e-05, 0.9999747276306152], 'Is it true Nisim.com coupon or coupon codes really reduce amount from purchase?'), {'dense_1': 0, 'input': 1})\n"
          ]
        }
      ]
    },
    {
      "cell_type": "markdown",
      "source": [
        "刪除資料集"
      ],
      "metadata": {
        "id": "s8D1CdgwXL2i"
      }
    },
    {
      "cell_type": "code",
      "source": [
        "# 定義資料集名稱\n",
        "dataset_id = 'tibame_gad245_16_0312_dataset_us'\n",
        "\n",
        "# 定義資料集參數\n",
        "dataset_ref = client.dataset(dataset_id)\n",
        "\n",
        "# 刪除資料集\n",
        "client.delete_dataset(dataset_ref, delete_contents=True)\n",
        "print(f\"dataset: {dataset_id} ,deleted\")"
      ],
      "metadata": {
        "colab": {
          "base_uri": "https://localhost:8080/"
        },
        "id": "I5kilsdiXS8I",
        "outputId": "57d70da7-b85b-4e3e-a2b0-9bffabdcab05"
      },
      "execution_count": 18,
      "outputs": [
        {
          "output_type": "stream",
          "name": "stdout",
          "text": [
            "dataset: tibame_gad245_16_0312_dataset_us ,deleted\n"
          ]
        }
      ]
    }
  ]
}